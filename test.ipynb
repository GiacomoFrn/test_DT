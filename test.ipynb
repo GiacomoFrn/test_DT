{
 "cells": [
  {
   "cell_type": "code",
   "execution_count": 1,
   "metadata": {},
   "outputs": [],
   "source": [
    "import matplotlib.pyplot as plt\n",
    "import pandas as pd\n",
    "import numpy as np\n",
    "import yaml\n"
   ]
  },
  {
   "cell_type": "code",
   "execution_count": 2,
   "metadata": {},
   "outputs": [],
   "source": [
    "# load configuration info about the experimental setup\n",
    "with open(\"configurations/Run001213.yml\", 'r') as stream:\n",
    "    cfg = yaml.safe_load(stream)"
   ]
  },
  {
   "cell_type": "code",
   "execution_count": 3,
   "metadata": {},
   "outputs": [],
   "source": [
    "# getEvents perfrom the following tasks:\n",
    "#   - data preprocessing (select only valid data, compute time info, time shifting)\n",
    "#   - event creation (out-> list of df w candidate \"hits\" for each event)\n",
    "from modules.eventsFactory import getEvents\n",
    "\n",
    "# getRecoResults has for output the following elements:\n",
    "#   - resultsList \n",
    "#   - resultsData\n",
    "#   - resultsHits (for easy plotting)\n",
    "from modules.reco import getRecoResults"
   ]
  },
  {
   "cell_type": "code",
   "execution_count": 11,
   "metadata": {},
   "outputs": [],
   "source": [
    "import os\n",
    "\n",
    "folderpath = r\"./RUN001220\" # make sure to put the 'r' in front\n",
    "filepaths  = [os.path.join(folderpath, name) for name in os.listdir(folderpath)]"
   ]
  },
  {
   "cell_type": "code",
   "execution_count": 12,
   "metadata": {},
   "outputs": [],
   "source": [
    "# analysis params (useTrigger select only events w Trigger count)\n",
    "useTrigger = False\n",
    "runTimeShift = 0\n",
    "\n",
    "# create a df with channel | time info w/o orbit info (ns) | anglular coefficient (x vs z)\n",
    "keep = ['TDC_CHANNEL', \"HIT_DRIFT_TIME\", \"m\"]\n"
   ]
  },
  {
   "cell_type": "code",
   "execution_count": 13,
   "metadata": {},
   "outputs": [
    {
     "name": "stdout",
     "output_type": "stream",
     "text": [
      "1233010\n",
      "1236337\n",
      "1236957\n",
      "1236360\n"
     ]
    },
    {
     "name": "stderr",
     "output_type": "stream",
     "text": [
      "/home/gfrances/miniconda3/lib/python3.9/site-packages/scipy/optimize/minpack.py:833: OptimizeWarning: Covariance of the parameters could not be estimated\n",
      "  warnings.warn('Covariance of the parameters could not be estimated',\n"
     ]
    },
    {
     "name": "stdout",
     "output_type": "stream",
     "text": [
      "1235816\n",
      "1235409\n",
      "1236402\n",
      "1234536\n",
      "1236217\n",
      "1237561\n",
      "1236770\n"
     ]
    }
   ],
   "source": [
    "\n",
    "i = 0\n",
    "df = pd.DataFrame()\n",
    "\n",
    "for file in filepaths:\n",
    "    stream_df = pd.read_csv(file)\n",
    "    \n",
    "    # reco\n",
    "    events = getEvents(stream_df, cfg, runTimeShift, useTrigger)\n",
    "    resultsList, resultsData, resultsHits, resultsDf = getRecoResults(events, useTrigger)\n",
    "\n",
    "    # out df\n",
    "    for df_ in resultsDf:   \n",
    "        df_ = df_[keep]\n",
    "        df = pd.concat([df, df_], axis=0, ignore_index=True)\n",
    "    \n",
    "    i+= 1\n",
    "    perc = i*100/len(filepaths)\n",
    "    print('Update %d %%' % perc, end='\\r')"
   ]
  },
  {
   "cell_type": "code",
   "execution_count": 15,
   "metadata": {},
   "outputs": [
    {
     "data": {
      "text/html": [
       "<div>\n",
       "<style scoped>\n",
       "    .dataframe tbody tr th:only-of-type {\n",
       "        vertical-align: middle;\n",
       "    }\n",
       "\n",
       "    .dataframe tbody tr th {\n",
       "        vertical-align: top;\n",
       "    }\n",
       "\n",
       "    .dataframe thead th {\n",
       "        text-align: right;\n",
       "    }\n",
       "</style>\n",
       "<table border=\"1\" class=\"dataframe\">\n",
       "  <thead>\n",
       "    <tr style=\"text-align: right;\">\n",
       "      <th></th>\n",
       "      <th>TDC_CHANNEL</th>\n",
       "      <th>HIT_DRIFT_TIME</th>\n",
       "      <th>m</th>\n",
       "    </tr>\n",
       "  </thead>\n",
       "  <tbody>\n",
       "    <tr>\n",
       "      <th>0</th>\n",
       "      <td>44</td>\n",
       "      <td>101.333333</td>\n",
       "      <td>-0.267712</td>\n",
       "    </tr>\n",
       "    <tr>\n",
       "      <th>1</th>\n",
       "      <td>45</td>\n",
       "      <td>240.500000</td>\n",
       "      <td>-0.267712</td>\n",
       "    </tr>\n",
       "    <tr>\n",
       "      <th>2</th>\n",
       "      <td>47</td>\n",
       "      <td>104.666667</td>\n",
       "      <td>-0.267712</td>\n",
       "    </tr>\n",
       "    <tr>\n",
       "      <th>3</th>\n",
       "      <td>46</td>\n",
       "      <td>243.833333</td>\n",
       "      <td>-0.267712</td>\n",
       "    </tr>\n",
       "    <tr>\n",
       "      <th>4</th>\n",
       "      <td>88</td>\n",
       "      <td>171.566667</td>\n",
       "      <td>-0.252828</td>\n",
       "    </tr>\n",
       "    <tr>\n",
       "      <th>...</th>\n",
       "      <td>...</td>\n",
       "      <td>...</td>\n",
       "      <td>...</td>\n",
       "    </tr>\n",
       "    <tr>\n",
       "      <th>52318</th>\n",
       "      <td>38</td>\n",
       "      <td>293.833333</td>\n",
       "      <td>-0.415996</td>\n",
       "    </tr>\n",
       "    <tr>\n",
       "      <th>52319</th>\n",
       "      <td>70</td>\n",
       "      <td>216.566667</td>\n",
       "      <td>-0.379767</td>\n",
       "    </tr>\n",
       "    <tr>\n",
       "      <th>52320</th>\n",
       "      <td>73</td>\n",
       "      <td>74.066667</td>\n",
       "      <td>-0.379767</td>\n",
       "    </tr>\n",
       "    <tr>\n",
       "      <th>52321</th>\n",
       "      <td>72</td>\n",
       "      <td>266.566667</td>\n",
       "      <td>-0.379767</td>\n",
       "    </tr>\n",
       "    <tr>\n",
       "      <th>52322</th>\n",
       "      <td>75</td>\n",
       "      <td>384.066667</td>\n",
       "      <td>-0.379767</td>\n",
       "    </tr>\n",
       "  </tbody>\n",
       "</table>\n",
       "<p>52323 rows × 3 columns</p>\n",
       "</div>"
      ],
      "text/plain": [
       "       TDC_CHANNEL  HIT_DRIFT_TIME         m\n",
       "0               44      101.333333 -0.267712\n",
       "1               45      240.500000 -0.267712\n",
       "2               47      104.666667 -0.267712\n",
       "3               46      243.833333 -0.267712\n",
       "4               88      171.566667 -0.252828\n",
       "...            ...             ...       ...\n",
       "52318           38      293.833333 -0.415996\n",
       "52319           70      216.566667 -0.379767\n",
       "52320           73       74.066667 -0.379767\n",
       "52321           72      266.566667 -0.379767\n",
       "52322           75      384.066667 -0.379767\n",
       "\n",
       "[52323 rows x 3 columns]"
      ]
     },
     "execution_count": 15,
     "metadata": {},
     "output_type": "execute_result"
    }
   ],
   "source": [
    "df"
   ]
  },
  {
   "cell_type": "code",
   "execution_count": 14,
   "metadata": {},
   "outputs": [
    {
     "data": {
      "image/png": "[encoded data removed]",
      "text/plain": [
       "<Figure size 432x288 with 1 Axes>"
      ]
     },
     "metadata": {
      "needs_background": "light"
     },
     "output_type": "display_data"
    }
   ],
   "source": [
    "plt.hist(df['TDC_CHANNEL'], bins = len(df['TDC_CHANNEL'].unique()))\n",
    "plt.show()"
   ]
  },
  {
   "cell_type": "code",
   "execution_count": 11,
   "metadata": {},
   "outputs": [
    {
     "data": {
      "text/plain": [
       "670"
      ]
     },
     "execution_count": 11,
     "metadata": {},
     "output_type": "execute_result"
    }
   ],
   "source": [
    "len(events)"
   ]
  }
 ],
 "metadata": {
  "interpreter": {
   "hash": "c764765d3a23b82ea6dc8b51e68f828b52dfa8d66dff00b67cebce7fa206e036"
  },
  "kernelspec": {
   "display_name": "Python 3.9.5 64-bit ('base': conda)",
   "language": "python",
   "name": "python3"
  },
  "language_info": {
   "codemirror_mode": {
    "name": "ipython",
    "version": 3
   },
   "file_extension": ".py",
   "mimetype": "text/x-python",
   "name": "python",
   "nbconvert_exporter": "python",
   "pygments_lexer": "ipython3",
   "version": "3.9.5"
  },
  "orig_nbformat": 4
 },
 "nbformat": 4,
 "nbformat_minor": 2
}
